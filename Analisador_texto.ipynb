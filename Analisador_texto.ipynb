{
 "cells": [
  {
   "cell_type": "code",
   "execution_count": 10,
   "id": "5dc7293d",
   "metadata": {},
   "outputs": [
    {
     "name": "stdout",
     "output_type": "stream",
     "text": [
      "Digite o texto para análise: Feliz aniversário!   Que o novo ano de vida seja cheio de conquistas e aprendizados. Que todos os momentos sejam uma oportunidade para crescer e ser ainda mais feliz. Parabéns pelo seu dia! Aproveite bastante! \n",
      "Número total de palavras: 34\n",
      "Frequência de cada palavra:\n",
      "feliz: 2 vezes\n",
      "aniversário: 1 vezes\n",
      "que: 2 vezes\n",
      "o: 1 vezes\n",
      "novo: 1 vezes\n",
      "ano: 1 vezes\n",
      "de: 2 vezes\n",
      "vida: 1 vezes\n",
      "seja: 1 vezes\n",
      "cheio: 1 vezes\n",
      "conquistas: 1 vezes\n",
      "e: 2 vezes\n",
      "aprendizados: 1 vezes\n",
      "todos: 1 vezes\n",
      "os: 1 vezes\n",
      "momentos: 1 vezes\n",
      "sejam: 1 vezes\n",
      "uma: 1 vezes\n",
      "oportunidade: 1 vezes\n",
      "para: 1 vezes\n",
      "crescer: 1 vezes\n",
      "ser: 1 vezes\n",
      "ainda: 1 vezes\n",
      "mais: 1 vezes\n",
      "parabéns: 1 vezes\n",
      "pelo: 1 vezes\n",
      "seu: 1 vezes\n",
      "dia: 1 vezes\n",
      "aproveite: 1 vezes\n",
      "bastante: 1 vezes\n"
     ]
    }
   ],
   "source": [
    "from collections import Counter\n",
    "import string\n",
    "\n",
    "def analisador_de_texto(texto):\n",
    "    # Remover pontuações e converter para minúsculas\n",
    "    texto = texto.lower()\n",
    "    texto = texto.translate(str.maketrans(\"\", \"\", string.punctuation))\n",
    "\n",
    "    # Dividir o texto em palavras\n",
    "    palavras = texto.split()\n",
    "\n",
    "    # Contar a frequência de cada palavra\n",
    "    contagem_palavras = Counter(palavras)\n",
    "\n",
    "    # Imprimir resultados\n",
    "    print(\"Número total de palavras:\", len(palavras))\n",
    "    print(\"Frequência de cada palavra:\")\n",
    "    for palavra, frequencia in contagem_palavras.items():\n",
    "        print(f\"{palavra}: {frequencia} vezes\")\n",
    "\n",
    "if __name__ == \"__main__\":\n",
    "    texto_entrada = input(\"Digite o texto para análise: \")\n",
    "    analisador_de_texto(texto_entrada)\n"
   ]
  },
  {
   "cell_type": "code",
   "execution_count": null,
   "id": "069a5b64",
   "metadata": {},
   "outputs": [],
   "source": []
  }
 ],
 "metadata": {
  "kernelspec": {
   "display_name": "Python 3 (ipykernel)",
   "language": "python",
   "name": "python3"
  },
  "language_info": {
   "codemirror_mode": {
    "name": "ipython",
    "version": 3
   },
   "file_extension": ".py",
   "mimetype": "text/x-python",
   "name": "python",
   "nbconvert_exporter": "python",
   "pygments_lexer": "ipython3",
   "version": "3.10.9"
  }
 },
 "nbformat": 4,
 "nbformat_minor": 5
}
